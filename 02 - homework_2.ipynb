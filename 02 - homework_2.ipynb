{
 "cells": [
  {
   "cell_type": "code",
   "execution_count": 1,
   "metadata": {
    "collapsed": true
   },
   "outputs": [],
   "source": [
    "reviews = [\"\"\"Телефон абонента: +7 916 000 00 01\n",
    "Время: 10:34\n",
    "Дата: 20.05.2017\n",
    "Оценка: 1\n",
    "Длительность разговора (мин.): 0:32\n",
    "Комментарий: Общение с сотрудником вашей техподдержки мне не понравилось. Раньше всегда отвечала девушка с приятным голосом, а сегодня какой-то мужчина. Совсем никуда не годится, примите меры!!!\"\"\",\n",
    "\"\"\"Телефон абонента: +7 916 000 00 02\n",
    "Время: 9:20\n",
    "Дата: 21.05.2017\n",
    "Оценка: 5\n",
    "Длительность разговора (мин.): 25:07\n",
    "Комментарий: С моей проблемой мне помогли, большое спасибо!\"\"\"]"
   ]
  },
  {
   "cell_type": "code",
   "execution_count": 5,
   "metadata": {
    "collapsed": false
   },
   "outputs": [
    {
     "name": "stdout",
     "output_type": "stream",
     "text": [
      "20.05.2017\n",
      "21.05.2017\n"
     ]
    },
    {
     "data": {
      "text/plain": [
       "True"
      ]
     },
     "execution_count": 5,
     "metadata": {},
     "output_type": "execute_result"
    }
   ],
   "source": [
    "my_base=dict()\n",
    "for feedback in reviews:\n",
    "    mydict = dict((k.strip(), v.strip()) for k,v in \n",
    "              (item.split(': ') for item in feedback.split('\\n')))\n",
    "    my_base[mydict[\"Телефон абонента\"]]=mydict\n",
    "    \n",
    "print my_base[\"+7 916 000 00 01\"][\"Дата\"]\n",
    "print my_base[\"+7 916 000 00 02\"][\"Дата\"]\n",
    "my_base['+7 916 000 00 01']['Дата'] == '20.05.2017'"
   ]
  },
  {
   "cell_type": "code",
   "execution_count": null,
   "metadata": {
    "collapsed": true
   },
   "outputs": [],
   "source": []
  }
 ],
 "metadata": {
  "kernelspec": {
   "display_name": "Python 2",
   "language": "python",
   "name": "python2"
  },
  "language_info": {
   "codemirror_mode": {
    "name": "ipython",
    "version": 2
   },
   "file_extension": ".py",
   "mimetype": "text/x-python",
   "name": "python",
   "nbconvert_exporter": "python",
   "pygments_lexer": "ipython2",
   "version": "2.7.13"
  }
 },
 "nbformat": 4,
 "nbformat_minor": 2
}
